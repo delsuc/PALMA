{
 "cells": [
  {
   "cell_type": "markdown",
   "metadata": {},
   "source": [
    "# S1\n",
    "This is a iPython Notebook document, associated to the S1 figure in the Support Information of the manuscript:\n",
    "# PALMA, an improved algorithm for the DOSY signal processing\n",
    "Afef cherni, Émilie chouzenoux, Marc-André Delsuc "
   ]
  },
  {
   "cell_type": "markdown",
   "metadata": {},
   "source": [
    "# we use the following approximation :\n",
    "$$\n",
    "W(e^x) \\approx x\\left(1-\\frac{\\log x}{1+x} \\right)\n",
    "$$\n",
    "see  W. Börsh-Supan, *J. Res. Nat. Bur. Stand.* **65B**, 245 (1961)\n",
    "( http://math.stackexchange.com/questions/463055/approximation-to-the-lambert-w-function )"
   ]
  },
  {
   "cell_type": "code",
   "execution_count": 2,
   "metadata": {
    "collapsed": false
   },
   "outputs": [
    {
     "name": "stderr",
     "output_type": "stream",
     "text": [
      "/Users/cherniafef/anaconda/lib/python2.7/site-packages/ipykernel/__main__.py:22: RuntimeWarning: invalid value encountered in log\n"
     ]
    },
    {
     "data": {
      "text/plain": [
       "<matplotlib.text.Text at 0x10e4bdd90>"
      ]
     },
     "execution_count": 2,
     "metadata": {},
     "output_type": "execute_result"
    },
    {
     "name": "stderr",
     "output_type": "stream",
     "text": [
      "/Users/cherniafef/anaconda/lib/python2.7/site-packages/matplotlib/scale.py:93: RuntimeWarning: invalid value encountered in less_equal\n",
      "  mask = a <= 0.0\n"
     ]
    },
    {
     "data": {
      "image/png": "[encoded data removed]",
      "text/plain": [
       "<matplotlib.figure.Figure at 0x109f8ecd0>"
      ]
     },
     "metadata": {},
     "output_type": "display_data"
    }
   ],
   "source": [
    "#############################\n",
    "#Import bib\n",
    "##############################\n",
    "import numpy as np\n",
    "import scipy\n",
    "from scipy.special import lambertw\n",
    "import matplotlib.pylab as plt\n",
    "import matplotlib.mlab as mlab\n",
    "import matplotlib.pyplot as plt\n",
    "%matplotlib inline\n",
    "import Code.scene as scene \n",
    "import Code.PALMA as PALMA\n",
    "\n",
    "def W(x):\n",
    "    \"\"\"\n",
    "    W Lambert function\n",
    "    \"\"\"\n",
    "    d = scipy.special.lambertw(x, k=0, tol=1e-8)\n",
    "    return np.real(d)\n",
    "\n",
    "def approx(x):\n",
    "    s = x*(1 - np.log(x)/(1+x))\n",
    "    return s\n",
    "\n",
    "plt.figure(figsize=(12,6))\n",
    "c = np.linspace(-4,200,5000)\n",
    "yl = abs(W(np.exp(c))-approx(c)) / W(np.exp(c))\n",
    "plt.semilogy(c, yl, 'r', linewidth=1.5)\n",
    "plt.ylabel(\"relative error\")\n",
    "plt.xlabel(\"c\")\n",
    "#plt.savefig('S1.eps', format='eps', dpi=1000)"
   ]
  },
  {
   "cell_type": "code",
   "execution_count": null,
   "metadata": {
    "collapsed": true
   },
   "outputs": [],
   "source": []
  }
 ],
 "metadata": {
  "anaconda-cloud": {},
  "kernelspec": {
   "display_name": "Python [Root]",
   "language": "python",
   "name": "Python [Root]"
  },
  "language_info": {
   "codemirror_mode": {
    "name": "ipython",
    "version": 2
   },
   "file_extension": ".py",
   "mimetype": "text/x-python",
   "name": "python",
   "nbconvert_exporter": "python",
   "pygments_lexer": "ipython2",
   "version": "2.7.11"
  }
 },
 "nbformat": 4,
 "nbformat_minor": 0
}
