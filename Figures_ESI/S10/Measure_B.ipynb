{
 "cells": [
  {
   "cell_type": "markdown",
   "metadata": {},
   "source": [
    "# Signal B, N=256, M=64, noise = $10^{-5}$"
   ]
  },
  {
   "cell_type": "code",
   "execution_count": 1,
   "metadata": {
    "collapsed": false
   },
   "outputs": [
    {
     "name": "stdout",
     "output_type": "stream",
     "text": [
      "Using matplotlib backend: MacOSX\n"
     ]
    },
    {
     "name": "stderr",
     "output_type": "stream",
     "text": [
      "PALMA.py:69: RuntimeWarning: invalid value encountered in log\n",
      "  s = x*(1 - np.log(x)/(1+x)) + A/(1+x-limit)**0.75\n",
      "PALMA.py:69: RuntimeWarning: invalid value encountered in power\n",
      "  s = x*(1 - np.log(x)/(1+x)) + A/(1+x-limit)**0.75\n"
     ]
    }
   ],
   "source": [
    "##############################\n",
    "# Import bib\n",
    "##############################\n",
    "import numpy as np\n",
    "import matplotlib.pylab as plt\n",
    "import matplotlib.mlab as mlab\n",
    "%matplotlib\n",
    "import time\n",
    "import scipy\n",
    "import Code.scene as scene \n",
    "import Code.PALMA as PALMA\n",
    "##############################\n",
    "# Measurement parameter\n",
    "##############################\n",
    "N = 256\n",
    "M = 64\n",
    "delta = 2E-3\n",
    "Delta = 50E-3\n",
    "Dmin = 1.0\n",
    "Dmax = 1000.0\n",
    "D= 16\n",
    "noise = 0.00001 #noise = 0.001%\n",
    "##############################\n",
    "# Measure \n",
    "##############################\n",
    "Lap_axis = scene.laplace_axis(N,Dmin,Dmax)\n",
    "t = scene.t_exp(D, Delta, invshift=10)\n",
    "t = t.reshape((M,1))\n",
    "K = np.exp(-np.kron(t,Lap_axis.T))\n",
    "Kt = np.transpose(K)\n",
    "KtK = np.dot(Kt,K)\n",
    "B = np.identity(N)\n",
    "B = B + KtK\n",
    "Binv = np.linalg.inv(B)\n",
    "x_Gauss = scene.scene_Gauss(N)\n",
    "x_Gauss = x_Gauss.reshape((N,1))\n",
    "z = np.dot(K,x_Gauss) \n",
    "sigma = noise*z[0]\n",
    "np.random.seed(1234)\n",
    "y = z + sigma*np.random.randn(M,1)\n",
    "eta = 1.01*np.sqrt(M)*sigma\n",
    "##############################\n",
    "# Algorithm parameter\n",
    "##############################\n",
    "nbiter = 200000\n",
    "prec = 1E-14\n",
    "full_output = False\n",
    "##############################\n",
    "# Reconstruction\n",
    "##############################\n",
    "lamda = 0.01\n",
    "xrec_Gauss0_01_PALMA, criters = PALMA.PPXAplus(K, Binv, y, eta, nbiter, lamda, prec, full_output)\n",
    "lamda = 0.05\n",
    "xrec_Gauss0_05_PALMA, criters = PALMA.PPXAplus(K, Binv, y, eta, nbiter, lamda, prec, full_output)\n",
    "#################################\n",
    "# Save\n",
    "#################################\n",
    "np.savetxt(\"y_Gauss_64_5.txt\", y)\n",
    "np.savetxt(\"Lap_axis_Gauss_64_5.txt\", Lap_axis)\n",
    "np.savetxt(\"t_Gauss_64_5.txt\", t)\n",
    "np.savetxt(\"x_Gauss_64_5.txt\", x_Gauss)\n",
    "np.savetxt(\"xrec_Gauss0_01_64_5_PALMA.txt\", xrec_Gauss0_01_PALMA)\n",
    "np.savetxt(\"xrec_Gauss0_05_64_5_PALMA.txt\", xrec_Gauss0_05_PALMA)"
   ]
  },
  {
   "cell_type": "code",
   "execution_count": null,
   "metadata": {
    "collapsed": true
   },
   "outputs": [],
   "source": []
  }
 ],
 "metadata": {
  "anaconda-cloud": {},
  "kernelspec": {
   "display_name": "Python [Root]",
   "language": "python",
   "name": "Python [Root]"
  },
  "language_info": {
   "codemirror_mode": {
    "name": "ipython",
    "version": 2
   },
   "file_extension": ".py",
   "mimetype": "text/x-python",
   "name": "python",
   "nbconvert_exporter": "python",
   "pygments_lexer": "ipython2",
   "version": "2.7.11"
  }
 },
 "nbformat": 4,
 "nbformat_minor": 0
}
