{
 "cells": [
  {
   "cell_type": "markdown",
   "metadata": {},
   "source": [
    "# S15\n",
    "This is a iPython Notebook document, associated to the S15 figure in the Support Information of the manuscript:\n",
    "# PALMA, an improved algorithm for the DOSY signal processing\n",
    "Afef cherni, Émilie chouzenoux, Marc-André Delsuc "
   ]
  },
  {
   "cell_type": "markdown",
   "metadata": {},
   "source": [
    "# $10^{-2}$"
   ]
  },
  {
   "cell_type": "code",
   "execution_count": 2,
   "metadata": {
    "collapsed": false
   },
   "outputs": [
    {
     "name": "stderr",
     "output_type": "stream",
     "text": [
      "PALMA.py:69: RuntimeWarning: invalid value encountered in log\n",
      "  s = x*(1 - np.log(x)/(1+x)) + A/(1+x-limit)**0.75\n",
      "PALMA.py:69: RuntimeWarning: invalid value encountered in power\n",
      "  s = x*(1 - np.log(x)/(1+x)) + A/(1+x-limit)**0.75\n"
     ]
    },
    {
     "name": "stdout",
     "output_type": "stream",
     "text": [
      "[-11.235265277038264, 10.600589554009774, 9.4335298837230432, 7.6270953142596767, 7.0187920645044466, 6.9963896548792457, 7.0771412593147121, 7.114219051866991]\n"
     ]
    }
   ],
   "source": [
    "##############################\n",
    "# Import bib\n",
    "##############################\n",
    "import numpy as np\n",
    "import matplotlib.pylab as plt\n",
    "import matplotlib.mlab as mlab\n",
    "%matplotlib inline\n",
    "import time\n",
    "import scipy\n",
    "import Code.scene as scene \n",
    "import Code.PALMA as PALMA\n",
    "##############################\n",
    "# Parametres\n",
    "##############################\n",
    "N = 256\n",
    "M = 64\n",
    "delta = 2E-3\n",
    "Delta = 50E-3\n",
    "Dmin = 1.0\n",
    "Dmax = 1000.0\n",
    "D= 16\n",
    "noise = 0.01 #noise = 0.1%\n",
    "##############################\n",
    "# C1 et C2 Mesures\n",
    "##############################\n",
    "Lap_axis = scene.laplace_axis(N,Dmin,Dmax)\n",
    "t = scene.t_linear(D, Delta, N=M)\n",
    "t = t.reshape((M,1))\n",
    "K = np.exp(-np.kron(t,Lap_axis.T))\n",
    "Kt = np.transpose(K)\n",
    "KtK = np.dot(Kt,K)\n",
    "B = np.identity(N)\n",
    "B = B + KtK\n",
    "Binv = np.linalg.inv(B)\n",
    "np.random.seed(1234)\n",
    "#C2\n",
    "x_Xu2 = scene.scene_Xu_ass(N, Dmin, Dmax, width=4)\n",
    "x_Xu2 = x_Xu2.reshape((N,1))\n",
    "z2 = np.dot(K,x_Xu2) \n",
    "sigma2 = noise*z2[0]\n",
    "y2 = z2 + sigma2*np.random.randn(M,1)\n",
    "eta2 = 1.01*np.sqrt(M)*sigma2\n",
    "full_output = False\n",
    "nbiter = 200000\n",
    "prec = 1E-14\n",
    "SNR_2 = []\n",
    "for lamda in (0, 0.01, 0.02, 0.05, 0.1, 0.2, 0.5, 1):\n",
    "    xrec , criters2 = PALMA.PPXAplus(K, Binv, y2, eta2, nbiter, lamda, prec, full_output)\n",
    "    snr = -20*np.log10(np.linalg.norm(xrec - x_Xu2) / np.linalg.norm(x_Xu2))\n",
    "    SNR_2.append(snr)\n",
    "print SNR2\n",
    "np.savetxt(\"SNR_2.txt\", SNR_2)"
   ]
  },
  {
   "cell_type": "markdown",
   "metadata": {},
   "source": [
    "# noise = $10^{-3}$"
   ]
  },
  {
   "cell_type": "code",
   "execution_count": 3,
   "metadata": {
    "collapsed": false
   },
   "outputs": [
    {
     "name": "stdout",
     "output_type": "stream",
     "text": [
      "[-9.6568691019601403, 12.72809067703035, 11.613924392223991, 10.972542776615207, 10.890013382777044, 10.86087361254828, 10.814572762580049, 10.76020717289868]\n"
     ]
    }
   ],
   "source": [
    "##############################\n",
    "# Import bib\n",
    "##############################\n",
    "import numpy as np\n",
    "import matplotlib.pylab as plt\n",
    "import matplotlib.mlab as mlab\n",
    "%matplotlib inline\n",
    "import time\n",
    "import scipy\n",
    "import scene\n",
    "import PALMA\n",
    "##############################\n",
    "# Parametres\n",
    "##############################\n",
    "N = 256\n",
    "M = 64\n",
    "delta = 2E-3\n",
    "Delta = 50E-3\n",
    "Dmin = 1.0\n",
    "Dmax = 1000.0\n",
    "D= 16\n",
    "noise = 0.001 #noise = 0.1%\n",
    "##############################\n",
    "# C1 et C2 Mesures\n",
    "##############################\n",
    "Lap_axis = scene.laplace_axis(N,Dmin,Dmax)\n",
    "t = scene.t_linear(D, Delta, N=M)\n",
    "t = t.reshape((M,1))\n",
    "K = np.exp(-np.kron(t,Lap_axis.T))\n",
    "Kt = np.transpose(K)\n",
    "KtK = np.dot(Kt,K)\n",
    "B = np.identity(N)\n",
    "B = B + KtK\n",
    "Binv = np.linalg.inv(B)\n",
    "np.random.seed(1234)\n",
    "#C2\n",
    "x_Xu2 = scene.scene_Xu_ass(N, Dmin, Dmax, width=4)\n",
    "x_Xu2 = x_Xu2.reshape((N,1))\n",
    "z2 = np.dot(K,x_Xu2) \n",
    "sigma2 = noise*z2[0]\n",
    "y2 = z2 + sigma2*np.random.randn(M,1)\n",
    "eta2 = 1.01*np.sqrt(M)*sigma2\n",
    "full_output = False\n",
    "nbiter = 200000\n",
    "prec = 1E-14\n",
    "SNR3 = []\n",
    "for lamda in (0, 0.01, 0.02, 0.05, 0.1, 0.2, 0.5, 1):\n",
    "    xrec , criters2 = PALMA.PPXAplus(K, Binv, y2, eta2, nbiter, lamda, prec, full_output)\n",
    "    snr = -20*np.log10(np.linalg.norm(xrec - x_Xu2) / np.linalg.norm(x_Xu2))\n",
    "    SNR3.append(snr)\n",
    "print SNR3\n",
    "np.savetxt(\"SNR_3.txt\", SNR3)"
   ]
  },
  {
   "cell_type": "markdown",
   "metadata": {},
   "source": [
    "# noise = $10^{-4}$"
   ]
  },
  {
   "cell_type": "code",
   "execution_count": 4,
   "metadata": {
    "collapsed": false
   },
   "outputs": [
    {
     "name": "stdout",
     "output_type": "stream",
     "text": [
      "[-7.8740118040900349, 17.277318203484473, 16.77762348495866, 16.597174253321587, 16.300694965077234, 15.775576794494315, 14.923610739667089, 14.244968146978982]\n"
     ]
    }
   ],
   "source": [
    "##############################\n",
    "# Import bib\n",
    "##############################\n",
    "import numpy as np\n",
    "import matplotlib.pylab as plt\n",
    "import matplotlib.mlab as mlab\n",
    "%matplotlib inline\n",
    "import time\n",
    "import scipy\n",
    "import scene\n",
    "import PALMA\n",
    "##############################\n",
    "# Parametres\n",
    "##############################\n",
    "N = 256\n",
    "M = 64\n",
    "delta = 2E-3\n",
    "Delta = 50E-3\n",
    "Dmin = 1.0\n",
    "Dmax = 1000.0\n",
    "D= 16\n",
    "noise = 0.0001 #noise = 0.1%\n",
    "##############################\n",
    "# C1 et C2 Mesures\n",
    "##############################\n",
    "Lap_axis = scene.laplace_axis(N,Dmin,Dmax)\n",
    "t = scene.t_linear(D, Delta, N=M)\n",
    "t = t.reshape((M,1))\n",
    "K = np.exp(-np.kron(t,Lap_axis.T))\n",
    "Kt = np.transpose(K)\n",
    "KtK = np.dot(Kt,K)\n",
    "B = np.identity(N)\n",
    "B = B + KtK\n",
    "Binv = np.linalg.inv(B)\n",
    "np.random.seed(1234)\n",
    "#C2\n",
    "x_Xu2 = scene.scene_Xu_ass(N, Dmin, Dmax, width=4)\n",
    "x_Xu2 = x_Xu2.reshape((N,1))\n",
    "z2 = np.dot(K,x_Xu2) \n",
    "sigma2 = noise*z2[0]\n",
    "y2 = z2 + sigma2*np.random.randn(M,1)\n",
    "eta2 = 1.01*np.sqrt(M)*sigma2\n",
    "full_output = False\n",
    "nbiter = 200000\n",
    "prec = 1E-14\n",
    "SNR4 = []\n",
    "for lamda in (0, 0.01, 0.02, 0.05, 0.1, 0.2, 0.5, 1):\n",
    "    xrec , criters2 = PALMA.PPXAplus(K, Binv, y2, eta2, nbiter, lamda, prec, full_output)\n",
    "    snr = -20*np.log10(np.linalg.norm(xrec - x_Xu2) / np.linalg.norm(x_Xu2))\n",
    "    SNR4.append(snr)\n",
    "print SNR4\n",
    "np.savetxt(\"SNR_4.txt\", SNR4)"
   ]
  },
  {
   "cell_type": "markdown",
   "metadata": {},
   "source": [
    "# noise = $10^{-5}$"
   ]
  },
  {
   "cell_type": "code",
   "execution_count": 5,
   "metadata": {
    "collapsed": false
   },
   "outputs": [
    {
     "name": "stdout",
     "output_type": "stream",
     "text": [
      "[-0.64962173509260501, 23.249200309850163, 22.056822826049718, 20.753956096562479, 19.923002241576011, 19.190976105429382, 17.975390534271675, 16.701306892020732]\n"
     ]
    }
   ],
   "source": [
    "##############################\n",
    "# Import bib\n",
    "##############################\n",
    "import numpy as np\n",
    "import matplotlib.pylab as plt\n",
    "import matplotlib.mlab as mlab\n",
    "%matplotlib inline\n",
    "import time\n",
    "import scipy\n",
    "import scene\n",
    "import PALMA\n",
    "##############################\n",
    "# Parametres\n",
    "##############################\n",
    "N = 256\n",
    "M = 64\n",
    "delta = 2E-3\n",
    "Delta = 50E-3\n",
    "Dmin = 1.0\n",
    "Dmax = 1000.0\n",
    "D= 16\n",
    "noise = 0.00001 #noise = 0.1%\n",
    "##############################\n",
    "# C1 et C2 Mesures\n",
    "##############################\n",
    "Lap_axis = scene.laplace_axis(N,Dmin,Dmax)\n",
    "t = scene.t_linear(D, Delta, N=M)\n",
    "t = t.reshape((M,1))\n",
    "K = np.exp(-np.kron(t,Lap_axis.T))\n",
    "Kt = np.transpose(K)\n",
    "KtK = np.dot(Kt,K)\n",
    "B = np.identity(N)\n",
    "B = B + KtK\n",
    "Binv = np.linalg.inv(B)\n",
    "np.random.seed(1234)\n",
    "#C2\n",
    "x_Xu2 = scene.scene_Xu_ass(N, Dmin, Dmax, width=4)\n",
    "x_Xu2 = x_Xu2.reshape((N,1))\n",
    "z2 = np.dot(K,x_Xu2) \n",
    "sigma2 = noise*z2[0]\n",
    "y2 = z2 + sigma2*np.random.randn(M,1)\n",
    "eta2 = 1.01*np.sqrt(M)*sigma2\n",
    "full_output = False\n",
    "nbiter = 200000\n",
    "prec = 1E-14\n",
    "SNR5 = []\n",
    "for lamda in (0, 0.01, 0.02, 0.05, 0.1, 0.2, 0.5, 1):\n",
    "    xrec , criters2 = PALMA.PPXAplus(K, Binv, y2, eta2, nbiter, lamda, prec, full_output)\n",
    "    snr = -20*np.log10(np.linalg.norm(xrec - x_Xu2) / np.linalg.norm(x_Xu2))\n",
    "    SNR5.append(snr)\n",
    "print SNR5\n",
    "np.savetxt(\"SNR_5.txt\", SNR5)"
   ]
  },
  {
   "cell_type": "code",
   "execution_count": 7,
   "metadata": {
    "collapsed": false
   },
   "outputs": [
    {
     "data": {
      "image/png": "[encoded data removed]",
      "text/plain": [
       "<matplotlib.figure.Figure at 0x103e62510>"
      ]
     },
     "metadata": {},
     "output_type": "display_data"
    }
   ],
   "source": [
    "Lamda = (0, 0.01, 0.02, 0.05, 0.1, 0.2, 0.5, 1) \n",
    "SNR_2 = open(\"SNR_2.txt\", \"r\")\n",
    "SNR_2 = np.loadtxt(SNR_2)\n",
    "SNR_3 = open(\"SNR_3.txt\", \"r\")\n",
    "SNR_3 = np.loadtxt(SNR_3)\n",
    "SNR_4 = open(\"SNR_4.txt\", \"r\")\n",
    "SNR_4 = np.loadtxt(SNR_4)\n",
    "SNR_5 = open(\"SNR_5.txt\", \"r\")\n",
    "SNR_5 = np.loadtxt(SNR_5)\n",
    "plt.figure(figsize=(12,6))\n",
    "plt.plot(Lamda, SNR_2, 'r-o', linewidth=1, label=\"noise level = $1 \\%$\")\n",
    "plt.plot(Lamda, SNR_3, 'b-^', linewidth=1, label=\"noise level = $0.1 \\%$\")\n",
    "plt.plot(Lamda, SNR_4, 'g-*', linewidth=1, label=\"noise level = $0.01 \\%$\")\n",
    "plt.plot(Lamda, SNR_5, 'm-s', linewidth=1, label=\"noise level = $0.001 \\%$\")\n",
    "plt.xlabel(\"$\\lambda$\", fontsize=14)\n",
    "plt.ylabel(\"Quality of reconstruction in $dB$\", fontsize=14)\n",
    "plt.legend(loc=4, fontsize=14)\n",
    "plt.show()\n",
    "#plt.savefig('SE_1.eps', format='eps', dpi=1000)"
   ]
  },
  {
   "cell_type": "code",
   "execution_count": null,
   "metadata": {
    "collapsed": true
   },
   "outputs": [],
   "source": []
  }
 ],
 "metadata": {
  "anaconda-cloud": {},
  "kernelspec": {
   "display_name": "Python [Root]",
   "language": "python",
   "name": "Python [Root]"
  },
  "language_info": {
   "codemirror_mode": {
    "name": "ipython",
    "version": 2
   },
   "file_extension": ".py",
   "mimetype": "text/x-python",
   "name": "python",
   "nbconvert_exporter": "python",
   "pygments_lexer": "ipython2",
   "version": "2.7.11"
  }
 },
 "nbformat": 4,
 "nbformat_minor": 0
}
