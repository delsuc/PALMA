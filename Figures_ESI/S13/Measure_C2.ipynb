{
 "cells": [
  {
   "cell_type": "markdown",
   "metadata": {},
   "source": [
    "# Signal B, N=256, M=64, noise = $10^{-4}$"
   ]
  },
  {
   "cell_type": "code",
   "execution_count": 2,
   "metadata": {
    "collapsed": false
   },
   "outputs": [
    {
     "name": "stdout",
     "output_type": "stream",
     "text": [
      "Using matplotlib backend: MacOSX\n"
     ]
    }
   ],
   "source": [
    "##############################\n",
    "# Import bib\n",
    "##############################\n",
    "import numpy as np\n",
    "import matplotlib.pylab as plt\n",
    "import matplotlib.mlab as mlab\n",
    "%matplotlib\n",
    "import time\n",
    "import scipy\n",
    "import Code.scene as scene\n",
    "import Code.PALMA as PALMA\n",
    "##############################\n",
    "# Measurement parameter\n",
    "##############################\n",
    "N = 256\n",
    "M = 64\n",
    "delta = 2E-3\n",
    "Delta = 50E-3\n",
    "Dmin = 1.0\n",
    "Dmax = 1000.0\n",
    "D= 16\n",
    "noise = 0.0001 #noise = 0.001%\n",
    "##############################\n",
    "# Measure \n",
    "##############################\n",
    "##############################\n",
    "# C1 et C2 Mesures\n",
    "##############################\n",
    "Lap_axis = scene.laplace_axis(N,Dmin,Dmax)\n",
    "np.savetxt(\"Lap_axis_Xu.txt\", Lap_axis)\n",
    "t = scene.t_linear(D, Delta, M)\n",
    "t = t.reshape((M,1))\n",
    "K = np.exp(-np.kron(t,Lap_axis.T))\n",
    "Kt = np.transpose(K)\n",
    "KtK = np.dot(Kt,K)\n",
    "B = np.identity(N)\n",
    "B = B + KtK\n",
    "Binv = np.linalg.inv(B)\n",
    "np.random.seed(1234)\n",
    "#C2\n",
    "x_Xu2 = scene.scene_Xu_ass(N, Dmin, Dmax, width=4)\n",
    "x_Xu2 = x_Xu2.reshape((N,1))\n",
    "z2 = np.dot(K,x_Xu2) \n",
    "sigma2 = noise*z2[0]\n",
    "y2 = z2 + sigma2*np.random.randn(M,1)\n",
    "eta2 = 1.01*np.sqrt(M)*sigma2\n",
    "##############################\n",
    "# Algorithm parameter\n",
    "##############################\n",
    "nbiter = 200000\n",
    "prec = 1E-14\n",
    "full_output = False\n",
    "##############################\n",
    "# Reconstruction\n",
    "##############################\n",
    "lamda = 0.01\n",
    "xrec_Xu2_0_01_PALMA, criters = PALMA.PPXAplus(K, Binv, y2, eta2, nbiter, lamda, prec, full_output)\n",
    "lamda = 0.05\n",
    "xrec_Xu2_0_05_PALMA, criters = PALMA.PPXAplus(K, Binv, y2, eta2, nbiter, lamda, prec, full_output)\n",
    "#################################\n",
    "# Save\n",
    "#################################\n",
    "np.savetxt(\"y_Xu2_64_4.txt\", y2)\n",
    "np.savetxt(\"Lap_axis_Xu2_64_4.txt\", Lap_axis)\n",
    "np.savetxt(\"t_Xu2_64_4.txt\", t)\n",
    "np.savetxt(\"x_Xu2_64_4.txt\", x_Xu2)\n",
    "np.savetxt(\"xrec_Xu2_0_01_64_4_PALMA.txt\", xrec_Xu2_0_01_PALMA)\n",
    "np.savetxt(\"xrec_Xu2_0_05_64_4_PALMA.txt\", xrec_Xu2_0_05_PALMA)"
   ]
  },
  {
   "cell_type": "code",
   "execution_count": null,
   "metadata": {
    "collapsed": true
   },
   "outputs": [],
   "source": []
  }
 ],
 "metadata": {
  "anaconda-cloud": {},
  "kernelspec": {
   "display_name": "Python [Root]",
   "language": "python",
   "name": "Python [Root]"
  },
  "language_info": {
   "codemirror_mode": {
    "name": "ipython",
    "version": 2
   },
   "file_extension": ".py",
   "mimetype": "text/x-python",
   "name": "python",
   "nbconvert_exporter": "python",
   "pygments_lexer": "ipython2",
   "version": "2.7.11"
  }
 },
 "nbformat": 4,
 "nbformat_minor": 0
}
